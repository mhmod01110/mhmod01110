{
  "cells": [
    {
      "cell_type": "markdown",
      "metadata": {
        "id": "view-in-github",
        "colab_type": "text"
      },
      "source": [
        "<a href=\"https://colab.research.google.com/github/mhmod01110/mhmod01110/blob/main/Probability_Hw.ipynb\" target=\"_parent\"><img src=\"https://colab.research.google.com/assets/colab-badge.svg\" alt=\"Open In Colab\"/></a>"
      ]
    },
    {
      "cell_type": "markdown",
      "id": "5bf4cd7f",
      "metadata": {
        "id": "5bf4cd7f"
      },
      "source": [
        "# Q1) Card is Drawn random from card deck , prob of getting 3 Diamond"
      ]
    },
    {
      "cell_type": "markdown",
      "id": "31e6092a",
      "metadata": {
        "id": "31e6092a"
      },
      "source": [
        "![nicubunu_White_deck_3_of_diamonds.png](data:image/png;base64,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)"
      ]
    },
    {
      "cell_type": "code",
      "execution_count": null,
      "id": "18b2cc54",
      "metadata": {
        "id": "18b2cc54",
        "outputId": "1d1bb6a4-c346-4c72-a76a-87b892091b13"
      },
      "outputs": [
        {
          "name": "stdout",
          "output_type": "stream",
          "text": [
            "probability =  0.019230769230769232\n",
            "probability =  1/52\n"
          ]
        }
      ],
      "source": [
        "from fractions import Fraction\n",
        "all_cards = 0\n",
        "my_card = 0\n",
        "names = ['heart', 'club', 'diamond', 'spade']\n",
        "for num in range(1, 14):\n",
        "    for name in names:\n",
        "        card = (num, name)\n",
        "#         print(card)\n",
        "        all_cards += 1\n",
        "        if card == (3,'diamond'):\n",
        "            my_card += 1\n",
        "probability = my_card / all_cards\n",
        "print(\"probability = \",probability)\n",
        "probability = Fraction(my_card, all_cards)\n",
        "print(\"probability = \",probability)\n",
        "\n",
        "\n"
      ]
    },
    {
      "cell_type": "markdown",
      "id": "00210708",
      "metadata": {
        "id": "00210708"
      },
      "source": [
        "# Q2) Jar, 3 Red, 7 Green, 10 White, one selected , prob of being white?"
      ]
    },
    {
      "cell_type": "code",
      "execution_count": null,
      "id": "4e590310",
      "metadata": {
        "id": "4e590310",
        "outputId": "c7d2cf27-4bb8-4e4a-8a9c-6d7530270d3c"
      },
      "outputs": [
        {
          "name": "stdout",
          "output_type": "stream",
          "text": [
            "['Red', 'Red', 'Red', 'Green', 'Green', 'Green', 'Green', 'Green', 'Green', 'Green', 'White', 'White', 'White', 'White', 'White', 'White', 'White', 'White', 'White', 'White']\n",
            "['White', 'White', 'White', 'White', 'White', 'White', 'White', 'White', 'White', 'White']\n",
            "probability =  1/2\n"
          ]
        }
      ],
      "source": [
        "S = ['Red'] * 3 + ['Green'] * 7 + ['White'] * 10\n",
        "E = [my for my in S if my == 'White']\n",
        "print(S)\n",
        "print(E)\n",
        "probability = Fraction(len(E), len(S))\n",
        "print(\"probability = \",probability)"
      ]
    },
    {
      "cell_type": "markdown",
      "id": "1f615701",
      "metadata": {
        "id": "1f615701"
      },
      "source": [
        "# Q3) Computer system, one of 4 monitors, one of 2 Keyboards, one of 4 computers, one of 3 printers, what number of possible systems ?"
      ]
    },
    {
      "cell_type": "code",
      "execution_count": null,
      "id": "78de3c2b",
      "metadata": {
        "id": "78de3c2b",
        "outputId": "6ca9d8d8-f21b-4572-ed25-a69c0e8d081f"
      },
      "outputs": [
        {
          "name": "stdout",
          "output_type": "stream",
          "text": [
            "poss_sys =  96\n"
          ]
        }
      ],
      "source": [
        "poss_sys = 4 * 2 * 4 * 3\n",
        "print(\"poss_sys = \", poss_sys)"
      ]
    },
    {
      "cell_type": "markdown",
      "id": "c27353c5",
      "metadata": {
        "id": "c27353c5"
      },
      "source": [
        "# Q4) How many 3-didgit numbers we can make using 2,3,4,5,6 without repetition"
      ]
    },
    {
      "cell_type": "code",
      "execution_count": null,
      "id": "9056a978",
      "metadata": {
        "id": "9056a978",
        "outputId": "1b599c72-8ff7-413f-ac8a-96eb492e7fc2"
      },
      "outputs": [
        {
          "name": "stdout",
          "output_type": "stream",
          "text": [
            "(2, 3, 4)\n",
            "(2, 3, 5)\n",
            "(2, 3, 6)\n",
            "(2, 4, 5)\n",
            "(2, 4, 6)\n",
            "(2, 5, 6)\n",
            "(3, 4, 5)\n",
            "(3, 4, 6)\n",
            "(3, 5, 6)\n",
            "(4, 5, 6)\n",
            "\n",
            "number = 5 C 3 =  10\n"
          ]
        }
      ],
      "source": [
        "from itertools import combinations\n",
        "num = 0\n",
        "seq = [2, 3, 4, 5, 6]\n",
        "combs = combinations(seq, 3)\n",
        "for comb in combs:\n",
        "    print(comb)\n",
        "    num += 1\n",
        "print(\"\\nnumber = 5 C 3 = \", num)\n",
        "#   num = 5C3"
      ]
    },
    {
      "cell_type": "markdown",
      "id": "dc287e99",
      "metadata": {
        "id": "dc287e99"
      },
      "source": [
        "# Q5) How many triangles you can make with 6 noncollinear points?\n",
        "\n",
        "That means Combination <<# No repeatation #>>"
      ]
    },
    {
      "cell_type": "code",
      "execution_count": null,
      "id": "5e516425",
      "metadata": {
        "id": "5e516425",
        "outputId": "6b115d12-a455-4ab7-eb5b-bb3bb267c804"
      },
      "outputs": [
        {
          "name": "stdout",
          "output_type": "stream",
          "text": [
            "(1, 2, 3)\n",
            "(1, 2, 4)\n",
            "(1, 2, 5)\n",
            "(1, 2, 6)\n",
            "(1, 3, 4)\n",
            "(1, 3, 5)\n",
            "(1, 3, 6)\n",
            "(1, 4, 5)\n",
            "(1, 4, 6)\n",
            "(1, 5, 6)\n",
            "(2, 3, 4)\n",
            "(2, 3, 5)\n",
            "(2, 3, 6)\n",
            "(2, 4, 5)\n",
            "(2, 4, 6)\n",
            "(2, 5, 6)\n",
            "(3, 4, 5)\n",
            "(3, 4, 6)\n",
            "(3, 5, 6)\n",
            "(4, 5, 6)\n",
            "\n",
            "number = 6 C 3 =  20\n"
          ]
        }
      ],
      "source": [
        "num = 0\n",
        "seq = [1, 2, 3, 4, 5, 6]\n",
        "combs = combinations(seq, 3)\n",
        "for comb in combs:\n",
        "    print(comb)\n",
        "    num += 1\n",
        "print(\"\\nnumber = 6 C 3 = \", num)\n",
        "#   num = 6C3"
      ]
    },
    {
      "cell_type": "markdown",
      "id": "332c24f5",
      "metadata": {
        "id": "332c24f5"
      },
      "source": [
        "# Q6) car number plate 4 digits + 3 letters , no repeated digit or letter"
      ]
    },
    {
      "cell_type": "code",
      "execution_count": null,
      "id": "8a420f1c",
      "metadata": {
        "id": "8a420f1c",
        "outputId": "ffa72cd5-1d3d-4650-f2a8-45f126a6c88f"
      },
      "outputs": [
        {
          "name": "stdout",
          "output_type": "stream",
          "text": [
            "number =  47174400\n"
          ]
        }
      ],
      "source": [
        "number = 9 * 8 * 7 * 6 * 26 * 25 * 24\n",
        "print(\"number = \", number)"
      ]
    },
    {
      "cell_type": "markdown",
      "id": "f68ee03a",
      "metadata": {
        "id": "f68ee03a"
      },
      "source": [
        "# Q7) Fair die rolled one time, prob of getting 1 or 5"
      ]
    },
    {
      "cell_type": "markdown",
      "id": "ce9ac40d",
      "metadata": {
        "id": "ce9ac40d"
      },
      "source": [
        "![dice.png](data:image/png;base64,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)"
      ]
    },
    {
      "cell_type": "code",
      "execution_count": null,
      "id": "02719684",
      "metadata": {
        "id": "02719684",
        "outputId": "e2825dbe-4e39-4131-b4e9-fbef9cae4c97"
      },
      "outputs": [
        {
          "name": "stdout",
          "output_type": "stream",
          "text": [
            "probability =  1/3\n"
          ]
        }
      ],
      "source": [
        "my = 0\n",
        "S = [1, 2, 3, 4, 5, 6]\n",
        "all_S = len(S)\n",
        "for n in S:\n",
        "    if n == 1 or n == 5:\n",
        "        my += 1\n",
        "prob = Fraction(my, all_S)\n",
        "print(\"probability = \",prob)\n",
        "\n"
      ]
    },
    {
      "cell_type": "markdown",
      "id": "9054bd08",
      "metadata": {
        "id": "9054bd08"
      },
      "source": [
        "# Q8) Single card drawn from a deck , what prob selecting :\n",
        "\n",
        "1- 2 or 5\n",
        "\n",
        "2- 8 or 'heart'\n",
        "\n",
        "3- Queen or RED CARD"
      ]
    },
    {
      "cell_type": "markdown",
      "id": "58698dda",
      "metadata": {
        "id": "58698dda"
      },
      "source": [
        "# Solution:\n",
        "    \n",
        "    1- there are 4 twos and 4 fives\n",
        "    so p1 = (4 + 4)/52 = 2/13\n",
        "    \n",
        "    2- there are 13 hearts and four eights including one heart\n",
        "    so p2 = (13 + 4 -1)/52 = 4/13\n",
        "    \n",
        "    3- there are 4 queens and 26 red car including 2 queens\n",
        "    so p3 = (4 + 26 - 2)/52 = 7/13"
      ]
    },
    {
      "cell_type": "code",
      "execution_count": null,
      "id": "28bca21f",
      "metadata": {
        "id": "28bca21f",
        "outputId": "aa482448-c0c5-4f81-e798-49c8108facb8"
      },
      "outputs": [
        {
          "name": "stdout",
          "output_type": "stream",
          "text": [
            "probability1 =  2/13\n",
            "probability2 =  4/13\n",
            "probability3 =  7/13\n"
          ]
        }
      ],
      "source": [
        "from fractions import Fraction\n",
        "all_cards = 0\n",
        "my_card_1 = 0\n",
        "my_card_2 = 0\n",
        "my_card_3 = 0\n",
        "names = ['heart', 'club', 'diamond', 'spade']\n",
        "color = ['red', 'black']\n",
        "for num in range(1, 14):\n",
        "    for name in names:\n",
        "        card = (num, name)\n",
        "        if name == 'heart' or name == 'diamond':\n",
        "            card = (num, name, color[0])\n",
        "        else:\n",
        "            card = (num, name, color[1])\n",
        "#         print(card)\n",
        "        all_cards += 1\n",
        "        if any(x in {2, 5} for x in card):\n",
        "            my_card_1 += 1\n",
        "        if any(x in {8, 'heart'} for x in card):\n",
        "            my_card_2 += 1\n",
        "        if any(x in {12, 'red'} for x in card):\n",
        "            my_card_3 += 1\n",
        "\n",
        "probability1 = Fraction(my_card_1, all_cards)\n",
        "print(\"probability1 = \",probability1)\n",
        "probability2 = Fraction(my_card_2, all_cards)\n",
        "print(\"probability2 = \",probability2)\n",
        "probability3 = Fraction(my_card_3, all_cards)\n",
        "print(\"probability3 = \",probability3)"
      ]
    },
    {
      "cell_type": "markdown",
      "id": "9525bc20",
      "metadata": {
        "id": "9525bc20"
      },
      "source": [
        "# Q9) Venn-Diagram\n"
      ]
    },
    {
      "cell_type": "markdown",
      "id": "13aa419a",
      "metadata": {
        "id": "13aa419a"
      },
      "source": [
        "# all cars = 150\n",
        "# all cars = 68 + 21 + 2x + 5 + x - 7\n",
        "# 150 = 87 + 3x\n",
        "# 3x = 63\n",
        "# x = 21\n",
        "# prob car is red = (21 + x - 7) / 150 = 35/150 = 7/30"
      ]
    },
    {
      "cell_type": "code",
      "execution_count": null,
      "id": "1278a425",
      "metadata": {
        "colab": {
          "base_uri": "https://localhost:8080/"
        },
        "id": "1278a425",
        "outputId": "5fcd2e20-eeb9-4702-93dd-41a7e8e6c205"
      },
      "outputs": [
        {
          "output_type": "stream",
          "name": "stdout",
          "text": [
            "Solution: =  21.0\n",
            "p_car_red =  0.23333333333333334  =  7/30\n"
          ]
        }
      ],
      "source": [
        "# all cars = 150\n",
        "# all cars = 68 + 21 + 2x + 5 + x - 7\n",
        "# 150 = 87 + 3x\n",
        "# 3x = 63\n",
        "# x = 21\n",
        "from fractions import Fraction\n",
        "import numpy as np\n",
        "A = np.array([[3]])\n",
        "\n",
        "B = np.array([63])\n",
        "\n",
        "# Solve the system of linear equations\n",
        "solution = np.linalg.solve(A, B)\n",
        "\n",
        "print(\"Solution: = \", solution[0])\n",
        "\n",
        "p_car_red = (21 + solution[0] - 7 )/ 150\n",
        "print(\"p_car_red = \", p_car_red, ' = ', Fraction(21 + int(solution[0]) - 7 , 150))"
      ]
    },
    {
      "cell_type": "markdown",
      "id": "003e74c5",
      "metadata": {
        "id": "003e74c5"
      },
      "source": [
        "# Q10)\n",
        "A small manufacturing company has rated 75% of its employees as satisfactory (S) and 25% as\n",
        "unsatisfactory (S’). Personnel records show that 80% of the satisfactory workers had previous work\n",
        "experience (E) in the job they are now doing, while 15% of the unsatisfactory workers had no work\n",
        "experience (E’) in the job they are now doing. If a person who has had previous work experience is\n",
        "hired, what is the approximate empirical probability that this person will be an unsatisfactory\n",
        "employee?\n"
      ]
    },
    {
      "cell_type": "code",
      "execution_count": null,
      "id": "4b137a5c",
      "metadata": {
        "id": "4b137a5c",
        "outputId": "4a03bd1f-6b74-41ce-f645-8893b83a4753"
      },
      "outputs": [
        {
          "name": "stdout",
          "output_type": "stream",
          "text": [
            "prob_of_unsatis_givvvven_exp =  0.2615384615384615\n"
          ]
        }
      ],
      "source": [
        "prob_satis_and_exp = 0.75 * 0.8\n",
        "prob_satis_and_no_exp = 0.75 * 0.8\n",
        "prob_unsatis_and_no_exp = 0.25 * 0.15\n",
        "prob_unsatis_and_exp = 0.25 * 0.85\n",
        "\n",
        "prob_of_exp = prob_satis_and_exp + prob_unsatis_and_exp\n",
        "\n",
        "prob_of_unsatis_givvvven_exp = prob_unsatis_and_exp / prob_of_exp\n",
        "\n",
        "print(\"prob_of_unsatis_givvvven_exp = \", prob_of_unsatis_givvvven_exp)\n"
      ]
    },
    {
      "cell_type": "markdown",
      "id": "93d6a95b",
      "metadata": {
        "id": "93d6a95b"
      },
      "source": [
        "# Q11) How many ways a committee can be made as 3 men and 2 women by choosing from a group of 7 men and 5 women?\n"
      ]
    },
    {
      "cell_type": "markdown",
      "id": "315e8535",
      "metadata": {
        "id": "315e8535"
      },
      "source": [
        "# number of ways to do that is = 7C3 + 5C2 = 45"
      ]
    },
    {
      "cell_type": "code",
      "execution_count": null,
      "id": "1ce327b0",
      "metadata": {
        "id": "1ce327b0",
        "outputId": "58e01109-a6fa-49c2-f858-5b848b397341"
      },
      "outputs": [
        {
          "name": "stdout",
          "output_type": "stream",
          "text": [
            "Total combinations with 3 'men' and 2 'women': 45\n"
          ]
        }
      ],
      "source": [
        "from itertools import combinations, chain\n",
        "\n",
        "num = 0\n",
        "seq = ['m1', 'm2', 'm3', 'm4', 'm5', 'm6', 'm7', 'w1', 'w2', 'w3', 'w4', 'w5']\n",
        "\n",
        "combs_men = combinations(seq[:7], 3)  # Choose 3 men from the first 7 elements\n",
        "combs_women = combinations(seq[7:], 2)  # Choose 2 women from the last 5 elements\n",
        "all_combs = chain(combs_men, combs_women)\n",
        "\n",
        "for comb in all_combs:\n",
        "    num += 1\n",
        "#     print(comb)\n",
        "\n",
        "print(\"Total combinations with 3 'men' and 2 'women':\", num)\n"
      ]
    },
    {
      "cell_type": "markdown",
      "id": "f29898c7",
      "metadata": {
        "id": "f29898c7"
      },
      "source": [
        "# Q12) Four bolts are chosen at random out of 12. Three bolts are defective. Find the probability that:\n",
        "\n",
        "1- None of the chosen is defective\n",
        "\n",
        "2- Exactly 1 is defective\n",
        "\n",
        "3- Atleast 1 is defective\n",
        "\n",
        "4- At most 2 are non-defective"
      ]
    },
    {
      "cell_type": "markdown",
      "id": "2bd2c8a2",
      "metadata": {
        "id": "2bd2c8a2"
      },
      "source": [
        "# Solution :\n",
        "\n",
        "total number of possible choices = 12 C 4\n",
        "\n",
        "\n",
        "1- None defective == all is good\n",
        "    \n",
        "    that means 9 C 4\n",
        "    p1 = 9C4 / total\n",
        "    \n",
        "2- Exactly 1 is defective == 3 good and 1 defective\n",
        "    \n",
        "    9C3 * 3C1\n",
        "    p2 = 9C3 * 3C1 / total\n",
        "    \n",
        "3- Atleast 1 is defective == (1 - probability of all none defective)\n",
        "    \n",
        "    p3 = 1 - (9C4 / total)\n",
        "    \n",
        "4- At most 2 are non-defective == 2 non-defective or 1 non-defective or 0 non-defective (impossible)\n",
        "\n",
        "    p4 = (9C2 * 3C2 + 9C1 + 3C3) / total\n",
        "\n",
        "\n",
        "\n",
        "\n",
        "\n",
        "    "
      ]
    },
    {
      "cell_type": "code",
      "execution_count": null,
      "id": "093ababa",
      "metadata": {
        "id": "093ababa",
        "outputId": "54d02a58-1a18-4afc-ead7-669b4a5aa540",
        "colab": {
          "base_uri": "https://localhost:8080/"
        }
      },
      "outputs": [
        {
          "output_type": "stream",
          "name": "stdout",
          "text": [
            "p1 =  0.2545454545454545  =  14/55\n",
            "p2 =  0.509090909090909  =  28/55\n",
            "p3 =  0.7454545454545455  =  41/55\n",
            "p4 =  0.23636363636363636  =  13/55\n"
          ]
        }
      ],
      "source": [
        "from math import comb\n",
        "\n",
        "total = comb(12, 4)\n",
        "\n",
        "p1 = comb(9, 4) / total\n",
        "\n",
        "p2 = comb(9, 3) * comb(3, 1) / total\n",
        "\n",
        "p3 = 1 - (comb(9, 4) / total)\n",
        "\n",
        "p4 =  (comb(9, 2) * comb(3, 2) + comb(9, 1) * comb(3, 3)) / total\n",
        "\n",
        "print(\"p1 = \", p1, \" = \", Fraction(comb(9, 4), total))\n",
        "print(\"p2 = \", p2, \" = \", Fraction(comb(9, 3) * comb(3, 1), total))\n",
        "print(\"p3 = \", p3, \" = \", Fraction(total - comb(9, 4) , total))\n",
        "print(\"p4 = \", p4, \" = \", Fraction((comb(9, 2) * comb(3, 2) + comb(9, 1) * comb(3, 3)) , total))"
      ]
    },
    {
      "cell_type": "markdown",
      "id": "f8354fd2",
      "metadata": {
        "id": "f8354fd2"
      },
      "source": [
        "# Q13) Choose the correct answer with proof\n",
        "\n",
        "Consider a standard deck of 52 playing cards (2 colors, 4 suits and 13 cards per suit). You first draw a card\n",
        "(\"card 1\"). While card 1s in your hand, you draw a second card (\"card 2\") from the deck.\n",
        "\n",
        "Which one of the following pair of events is independent?\n",
        "\n",
        "O card 1 is red and card 2 is a diamond\n",
        "\n",
        "O card 1 is a heart and card 2 is an ace\n",
        "\n",
        "O card 1 is a heart and card 2 is a heart\n",
        "\n",
        "O card 1 is a heart and the card 2 is red"
      ]
    },
    {
      "cell_type": "markdown",
      "id": "ff5d69f2",
      "metadata": {
        "id": "ff5d69f2"
      },
      "source": [
        "# Very good question <3 .. let's analyze :\n",
        "\n",
        "1- If 1 is red and 2 is diamond >> they are \"dependent\" as you can see the diamond is a subsuet from the heart so it will influence the probability of getting the secon card diamond\n",
        "\n",
        "    in another words >> the red card may be (diamond or heart) so if it is diamond that will affect the second card\n",
        "\n",
        "2- If 1 is heart and 2 is ace >> this pair is \"dependent\" as it will increase the probability of getting ace\n",
        "\n",
        "3- If 1 is heart and 2 is heart >> it is absolutely \"independent\" because the second draw will not be affected by the first\n",
        "    \n",
        "    in other words >> P(A|B) = P(A) >> probability of getting the second card is heart given the first is heart is the same the probability the second card is heart\n",
        "\n",
        "4- If 1 is heart and 2 is red >> we can deal with heart as diamond in (point 1) so its reciprocity if A depends on B that means also B depends on A so its \"dependent\"\n",
        "\n",
        "# So .. the answer is choice \" 3 \":\n"
      ]
    },
    {
      "cell_type": "markdown",
      "id": "d82d6bda",
      "metadata": {
        "id": "d82d6bda"
      },
      "source": [
        "# Q14)"
      ]
    },
    {
      "cell_type": "markdown",
      "id": "5a58aaf1",
      "metadata": {
        "id": "5a58aaf1"
      },
      "source": [
        "![image.png](attachment:image.png)"
      ]
    },
    {
      "cell_type": "markdown",
      "id": "92472d85",
      "metadata": {
        "id": "92472d85"
      },
      "source": [
        "a- E(X) = (0 * 0.1) + (1 * 0.4) + (2 * 0.3) + (3 * 0.2) = 1.6\n",
        "\n",
        "b- Var(X) = ((0 * 0.1) + (1 * 0.4) + (4 * 0.3) + (9 * 0.2)) - (1.6^2) = 0.8399999999999999\n",
        "\n",
        "c- E(Y) = E(X^2 - 4X + 4) = E(X^2) - 4 E(X) + E(4) = E(X^2) - 4 E(X) + 4 = 1"
      ]
    },
    {
      "cell_type": "code",
      "execution_count": null,
      "id": "4b95eed1",
      "metadata": {
        "id": "4b95eed1",
        "outputId": "bb3986f0-0f01-4f9d-ce53-a4f30120f376"
      },
      "outputs": [
        {
          "name": "stdout",
          "output_type": "stream",
          "text": [
            "E(X) =  1.6\n",
            "Var(X) =  0.8399999999999999\n",
            "E(Y) =  1.0\n"
          ]
        }
      ],
      "source": [
        "probs = [0.1, 0.4, 0.3, 0.2]\n",
        "\n",
        "mean_x = 0\n",
        "E_x2 = 0\n",
        "\n",
        "for i in range(len(probs)):\n",
        "    mean_x += i * probs[i]\n",
        "\n",
        "for i in range(len(probs)):\n",
        "    E_x2 += i**2 * probs[i]\n",
        "\n",
        "var = E_x2 - mean_x**2\n",
        "\n",
        "mean_y = E_x2 - 4 * mean_x + 4\n",
        "\n",
        "print(\"E(X) = \",mean_x)\n",
        "print(\"Var(X) = \", var)\n",
        "print(\"E(Y) = \",mean_y)\n"
      ]
    },
    {
      "cell_type": "markdown",
      "id": "fb5b305f",
      "metadata": {
        "id": "fb5b305f"
      },
      "source": [
        "# Q15) Let X and Y be two independent random variables. Suppose that we know Var(2X−Y)=6 and Var(X+2Y)=9. Find Var(X) and Var(Y).\n"
      ]
    },
    {
      "cell_type": "markdown",
      "id": "106db4a3",
      "metadata": {
        "id": "106db4a3"
      },
      "source": [
        "# Solution :\n",
        "\n",
        "Var(2X−Y) = Var(2X) + Var(Y) = 4 Var(X) + Var(Y)\n",
        "\n",
        "Var(X+2Y) = Var(X) + Var(2Y) = Var(X) + 4 Var(Y)\n",
        "\n",
        "eqn :\n",
        "\n",
        "4x + y = 6\n",
        "\n",
        "x + 4y = 9\n",
        "\n",
        "then:\n",
        "\n",
        "# Var(X) = 1\n",
        "\n",
        "# Var(Y) = 2\n"
      ]
    },
    {
      "cell_type": "markdown",
      "id": "2a6cd205",
      "metadata": {
        "id": "2a6cd205"
      },
      "source": [
        "# Q16)"
      ]
    },
    {
      "cell_type": "markdown",
      "id": "4bb4cd78",
      "metadata": {
        "id": "4bb4cd78"
      },
      "source": [
        "![image.png](attachment:image.png)"
      ]
    },
    {
      "cell_type": "code",
      "execution_count": null,
      "id": "1c38be15",
      "metadata": {
        "id": "1c38be15",
        "outputId": "c87b8e73-5cb5-462f-f7e5-d590ae4240c6"
      },
      "outputs": [
        {
          "name": "stdout",
          "output_type": "stream",
          "text": [
            "P(X = 1) =  0.16666666666666666\n",
            "P(Y | X = 1) =  [0.5  0.25 0.25]\n"
          ]
        }
      ],
      "source": [
        "import numpy as np\n",
        "P_x_1 = 1/12 + 1/24 + 1/24\n",
        "P_y_given_x_1 = np.array([1/12, 1/24, 1/24]) / P_x_1\n",
        "print(\"P(X = 1) = \",P_x_1)\n",
        "print(\"P(Y | X = 1) = \", P_y_given_x_1)"
      ]
    },
    {
      "cell_type": "markdown",
      "id": "b5f8eee5",
      "metadata": {
        "id": "b5f8eee5"
      },
      "source": [
        "# Q17)\n",
        "![image.png](attachment:image.png)"
      ]
    },
    {
      "cell_type": "code",
      "execution_count": 15,
      "id": "6273c1c7",
      "metadata": {
        "id": "6273c1c7",
        "outputId": "dc090609-2c94-41a2-fb5d-3c4788038f58",
        "colab": {
          "base_uri": "https://localhost:8080/"
        }
      },
      "outputs": [
        {
          "output_type": "stream",
          "name": "stdout",
          "text": [
            "Mean of X and Y: [22.25 41.25] \n",
            "\n",
            "Centered data (X and Y minus mean): \n",
            " [[-10.25  25.75]\n",
            " [ -9.25   3.75]\n",
            " [  2.75  -9.25]\n",
            " [ 16.75 -20.25]] \n",
            "\n",
            "Var of X and Y \n",
            " [119.6875 293.1875] \n",
            "\n",
            "Covariance .. Cov(X, Y) =  -221.08333333333334 \n",
            "\n",
            "Correlation .. Corr(X, Y) =  -1.1802088880925081 \n",
            "\n"
          ]
        }
      ],
      "source": [
        "from math import sqrt\n",
        "X_Y_table = np.array([[12, 67], [13, 45],[25, 32], [39, 21]])\n",
        "mean_X_Y = X_Y_table.sum(axis = 0)/4\n",
        "RV_minus_mean = X_Y_table - mean_X_Y\n",
        "var_X_Y = (RV_minus_mean**2).sum(axis=0)/4\n",
        "cov_X_Y = np.multiply(RV_minus_mean[:,0], RV_minus_mean[:,1]).sum() / 3 # n-1 #\n",
        "corr_X_Y = cov_X_Y / sqrt(var_X_Y[0] * var_X_Y[1])\n",
        "print(\"Mean of X and Y:\", mean_X_Y, '\\n')\n",
        "print(\"Centered data (X and Y minus mean):\",'\\n', RV_minus_mean, '\\n')\n",
        "print(\"Var of X and Y \\n\", var_X_Y, '\\n')\n",
        "print(\"Covariance .. Cov(X, Y) = \", cov_X_Y, '\\n')\n",
        "print(\"Correlation .. Corr(X, Y) = \", corr_X_Y, '\\n')"
      ]
    },
    {
      "cell_type": "code",
      "source": [],
      "metadata": {
        "id": "JdAECPgG2crk"
      },
      "id": "JdAECPgG2crk",
      "execution_count": null,
      "outputs": []
    }
  ],
  "metadata": {
    "kernelspec": {
      "display_name": "Python 3 (ipykernel)",
      "language": "python",
      "name": "python3"
    },
    "language_info": {
      "codemirror_mode": {
        "name": "ipython",
        "version": 3
      },
      "file_extension": ".py",
      "mimetype": "text/x-python",
      "name": "python",
      "nbconvert_exporter": "python",
      "pygments_lexer": "ipython3",
      "version": "3.11.5"
    },
    "colab": {
      "provenance": [],
      "include_colab_link": true
    }
  },
  "nbformat": 4,
  "nbformat_minor": 5
}